{
  "nbformat": 4,
  "nbformat_minor": 0,
  "metadata": {
    "colab": {
      "provenance": []
    },
    "kernelspec": {
      "name": "python3",
      "display_name": "Python 3"
    },
    "language_info": {
      "name": "python"
    }
  },
  "cells": [
    {
      "cell_type": "markdown",
      "source": [
        "<h2>\n",
        "<font color=\"#032766\">\n",
        "<b>\n",
        "PROGRAMACIÓN 1\n",
        "</b>\n",
        "</font>\n",
        "</h2>\n",
        "\n",
        "\n",
        "<h3>\n",
        "<font color=\"#032766\">\n",
        "<b>\n",
        "Trabajo práctico 1: Estructuras Secuenciales  \n",
        "</b>\n",
        "</font>\n",
        "</h3>\n"
      ],
      "metadata": {
        "id": "RmWDtgzqJAnb"
      }
    },
    {
      "cell_type": "markdown",
      "source": [
        "#### **Ejercicio 1**\n",
        "\n",
        "Crear un programa que imprima por pantalla el mensaje: “Hola Mundo!”.\n"
      ],
      "metadata": {
        "id": "T51serlKJheg"
      }
    },
    {
      "cell_type": "code",
      "source": [
        "# Este es un comentario. Los comentarios son líneas de texto que no se ejecutan.\n",
        "# Se utilizan para agregar explicaciones al código.\n",
        "# La siguiente línea imprime el mensaje \"Hola, Mundo!\" en la pantalla.\n",
        "\n",
        "print(\"Hola Mundo!\")"
      ],
      "metadata": {
        "colab": {
          "base_uri": "https://localhost:8080/"
        },
        "id": "63Dx8Z_eJAbp",
        "outputId": "b1763247-ceca-4f3e-9e71-9940ee7a279e"
      },
      "execution_count": null,
      "outputs": [
        {
          "output_type": "stream",
          "name": "stdout",
          "text": [
            "Hola Mundo!\n"
          ]
        }
      ]
    },
    {
      "cell_type": "markdown",
      "source": [
        "#### **Ejercicio 2**\n",
        "\n",
        "Crear un programa que pida al usuario su nombre e imprima por pantalla un saludo usando el nombre ingresado. Por ejemplo: si el usuario ingresa “Marcos”, el programa debe imprimir por pantalla “Hola Marcos!”. Consejo: esto será más sencillo si utilizas print(f…) para realizar la impresión por pantalla."
      ],
      "metadata": {
        "id": "zkiyef1TJpxK"
      }
    },
    {
      "cell_type": "code",
      "execution_count": null,
      "metadata": {
        "colab": {
          "base_uri": "https://localhost:8080/"
        },
        "id": "O7PpNxXnI9Bj",
        "outputId": "8f74f4cf-2448-4cae-9926-8cb2c2d68ff1"
      },
      "outputs": [
        {
          "output_type": "stream",
          "name": "stdout",
          "text": [
            "Por favor, ingrese su nombre: Carlos\n",
            "Hola Carlos!\n",
            "Hola Carlos!\n"
          ]
        }
      ],
      "source": [
        "# Empezamos pidiendo al usuario que ingrese su nombre y almacenando su respuesta en la variable \"nombre\"\n",
        "nombre = input(\"Por favor, ingrese su nombre: \")\n",
        "\n",
        "# Imprimimos el saludo utilizando printf\n",
        "print(f\"Hola {nombre}!\")\n",
        "\n",
        "# Otra alternativa sin usar printf sería\n",
        "print(\"Hola \" + nombre + \"!\")"
      ]
    },
    {
      "cell_type": "markdown",
      "source": [
        "#### **Ejercicio 3**\n",
        "\n",
        "Crear un programa que pida al usuario su nombre, apellido, edad y lugar de residencia e imprima por pantalla una oración con los datos ingresados. Por ejemplo: si el usuario ingresa “Marcos”, “Pérez”, “30” y “Argentina”, el programa debe imprimir “Soy Marcos Pérez, tengo 30 años y vivo en Argentina”. Consejo: esto será más sencillo si utilizas print(f…) para realizar la impresión por pantalla.\n"
      ],
      "metadata": {
        "id": "94K4Udc0J17x"
      }
    },
    {
      "cell_type": "code",
      "source": [
        "# Empezamos pidiendo al usuario que ingrese su nombre y almacenando su respuesta en la variable \"nombre\"\n",
        "nombre = input(\"Por favor, ingrese su nombre: \")\n",
        "\n",
        "# Luego, de forma análoga, almacenamos su apellido, edad y lugar de residencia\n",
        "apellido = input(\"Por favor, ingrese su apellido: \")\n",
        "edad = input(\"Por favor, ingrese su edad: \")\n",
        "lugar_de_residencia = input(\"Por favor, ingrese su lugar de residencia: \")\n",
        "\n",
        "# Imprimimos la oración utilizando printf\n",
        "print(f\"Soy {nombre} {apellido}, tengo {edad} años y vivo en {lugar_de_residencia}.\")"
      ],
      "metadata": {
        "id": "KpqXyW5OJ7Q9"
      },
      "execution_count": null,
      "outputs": []
    },
    {
      "cell_type": "markdown",
      "source": [
        "#### **Ejercicio 4**\n",
        "\n",
        "Crear un programa que pida al usuario el radio de un círculo e imprima por pantalla su área y su perímetro."
      ],
      "metadata": {
        "id": "FLEpYGFdKIws"
      }
    },
    {
      "cell_type": "code",
      "source": [
        "# Al principio del programa necesitamos importar la librería math ya que la necesitaremos para utilizar el número pi\n",
        "import math\n",
        "\n",
        "# Empezamos pidiendo al usuario que ingrese el radio del circulo y almacenando su respuesta en la variable \"radio_circulo\"\n",
        "# Como usaremos el radio para cálculos matemáticos necesitamos que el valor ingresado sea un tipo de dato float, por lo que hacemos la conversión al declarar la variable\n",
        "radio_circulo = float(input(\"Por favor, ingrese el radio del círculo: \"))\n",
        "\n",
        "# Realizamos el cálculo del área del círculo\n",
        "area_circulo = math.pi * (radio_circulo)**2\n",
        "\n",
        "# Realizamos el cálculo del perímetro del círculo\n",
        "perimetro_circulo = 2 * math.pi * radio_circulo\n",
        "\n",
        "# Imprimimos ambos resultados por pantalla\n",
        "print(f\"El área del círculo es de {area_circulo} y el perímetro es de {perimetro_circulo}.\")"
      ],
      "metadata": {
        "colab": {
          "base_uri": "https://localhost:8080/"
        },
        "id": "R7Tq5OIjKMq2",
        "outputId": "1e176e37-89f8-42f0-c45d-3a379bf52403"
      },
      "execution_count": null,
      "outputs": [
        {
          "output_type": "stream",
          "name": "stdout",
          "text": [
            "Por favor, ingrese el radio del círculo: 3\n",
            "El área del círculo es de 28.274333882308138 y el perímetro es de 18.84955592153876.\n"
          ]
        }
      ]
    },
    {
      "cell_type": "code",
      "source": [
        "# El resultado anterior tiene demasiados decimales, podemos usar la función round para redondear a 2 decimales\n",
        "\n",
        "# Al principio del programa necesitamos importar la librería math ya que la necesitaremos para utilizar el número pi\n",
        "import math\n",
        "\n",
        "# Empezamos pidiendo al usuario que ingrese el radio del circulo y almacenando su respuesta en la variable \"radio_circulo\"\n",
        "# Como usaremos el radio para cálculos matemáticos necesitamos que el valor ingresado sea un tipo de dato float, por lo que hacemos la conversión al declarar la variable\n",
        "radio_circulo = float(input(\"Por favor, ingrese el radio del círculo: \"))\n",
        "\n",
        "# Realizamos el cálculo del área del círculo\n",
        "area_circulo = round(math.pi * (radio_circulo)**2, 2)\n",
        "\n",
        "# Realizamos el cálculo del perímetro del círculo\n",
        "perimetro_circulo = round(2 * math.pi * radio_circulo, 2)\n",
        "\n",
        "# Imprimimos ambos resultados por pantalla\n",
        "print(f\"El área del círculo es de {area_circulo} y el perímetro es de {perimetro_circulo}.\")"
      ],
      "metadata": {
        "colab": {
          "base_uri": "https://localhost:8080/"
        },
        "id": "GHw1d7RYKll6",
        "outputId": "d6010b51-e259-49b6-dc6c-0b38308e828f"
      },
      "execution_count": null,
      "outputs": [
        {
          "output_type": "stream",
          "name": "stdout",
          "text": [
            "Por favor, ingrese el radio del círculo: 3\n",
            "El área del círculo es de 28.27 y el perímetro es de 18.85.\n"
          ]
        }
      ]
    },
    {
      "cell_type": "markdown",
      "source": [
        "#### **Ejercicio 5**\n",
        "\n",
        "Crear un programa que pida al usuario una cantidad de segundos e imprima por pantalla a cuántas horas equivale."
      ],
      "metadata": {
        "id": "j79FEir_K2Vm"
      }
    },
    {
      "cell_type": "code",
      "source": [
        "# Empezamos pidiendo al usuario que ingrese la cantidad de segundos y almacenando su respuesta en la variable \"cantidad_segundos\"\n",
        "# Como usaremos cantidad_segundos para cálculos matemáticos necesitamos que el valor ingresado sea un tipo de dato float, por lo que hacemos la conversión al declarar la variable\n",
        "cantidad_segundos = float(input(\"Por favor, ingrese la cantidad de segundos a convertir: \"))\n",
        "\n",
        "# Realizamos la conversión de segundos a horas, sabiendo que una hora equivale a 3600 segundos\n",
        "cantidad_horas = round(cantidad_segundos / 3600, 2)\n",
        "\n",
        "# Imprimimos el resultado por pantalla\n",
        "print(f\"El equivalente a {cantidad_segundos} segundos son {cantidad_horas} horas.\")"
      ],
      "metadata": {
        "colab": {
          "base_uri": "https://localhost:8080/"
        },
        "id": "9EFLgKkTK6AP",
        "outputId": "ae4d6be2-7a7e-4b86-9bf8-d9138904d076"
      },
      "execution_count": null,
      "outputs": [
        {
          "output_type": "stream",
          "name": "stdout",
          "text": [
            "Por favor, ingrese la cantidad de segundos a convertir: 3860\n",
            "El equivalente a 3860.0 segundos son 1.07 horas.\n"
          ]
        }
      ]
    },
    {
      "cell_type": "markdown",
      "source": [
        "#### **Ejercicio 6**\n",
        "\n",
        " Crear un programa que pida al usuario un número e imprima por pantalla la tabla de multiplicar de dicho número."
      ],
      "metadata": {
        "id": "buIjj2i4Lf2U"
      }
    },
    {
      "cell_type": "code",
      "source": [
        "# Empezamos pidiendo al usuario que ingrese un número entero y almacenando su respuesta en la variable \"numero_a_multiplicar\"\n",
        "# Como usaremos numero_a_multiplicar para cálculos matemáticos necesitamos que el valor ingresado sea un tipo de dato int, por lo que hacemos la conversión al declarar la variable\n",
        "numero_a_multiplicar = int(input(\"Por favor, ingrese un número entero: \"))\n",
        "\n",
        "# Realizamos las multiplicaciones correspondientes\n",
        "numero_por_0 = numero_a_multiplicar * 0\n",
        "numero_por_1 = numero_a_multiplicar * 1\n",
        "numero_por_2 = numero_a_multiplicar * 2\n",
        "numero_por_3 = numero_a_multiplicar * 3\n",
        "numero_por_4 = numero_a_multiplicar * 4\n",
        "numero_por_5 = numero_a_multiplicar * 5\n",
        "numero_por_6 = numero_a_multiplicar * 6\n",
        "numero_por_7 = numero_a_multiplicar * 7\n",
        "numero_por_8 = numero_a_multiplicar * 8\n",
        "numero_por_9 = numero_a_multiplicar * 9\n",
        "\n",
        "# Imprimimos el resultado por pantalla. En este caso hacemos una impresión de varias líneas por lo que usamos comillas triples\n",
        "print(f\"\"\"\n",
        "  {numero_a_multiplicar} x 0 = {numero_por_0}\n",
        "  {numero_a_multiplicar} x 1 = {numero_por_1}\n",
        "  {numero_a_multiplicar} x 2 = {numero_por_2}\n",
        "  {numero_a_multiplicar} x 3 = {numero_por_3}\n",
        "  {numero_a_multiplicar} x 4 = {numero_por_4}\n",
        "  {numero_a_multiplicar} x 5 = {numero_por_5}\n",
        "  {numero_a_multiplicar} x 6 = {numero_por_6}\n",
        "  {numero_a_multiplicar} x 7 = {numero_por_7}\n",
        "  {numero_a_multiplicar} x 8 = {numero_por_8}\n",
        "  {numero_a_multiplicar} x 9 = {numero_por_9}\n",
        "      \"\"\")"
      ],
      "metadata": {
        "colab": {
          "base_uri": "https://localhost:8080/"
        },
        "id": "-y5Iepx2MVRn",
        "outputId": "5b350f01-ce20-48cf-c80f-f9890a58f409"
      },
      "execution_count": null,
      "outputs": [
        {
          "output_type": "stream",
          "name": "stdout",
          "text": [
            "Por favor, ingrese un número entero: 3\n",
            "\n",
            "  3 x 0 = 0\n",
            "  3 x 1 = 3\n",
            "  3 x 2 = 6\n",
            "  3 x 3 = 9\n",
            "  3 x 4 = 12\n",
            "  3 x 5 = 15\n",
            "  3 x 6 = 18\n",
            "  3 x 7 = 21\n",
            "  3 x 8 = 24\n",
            "  3 x 9 = 27\n",
            "      \n"
          ]
        }
      ]
    },
    {
      "cell_type": "code",
      "source": [
        "# Esta es otra alternativa para simplificar la lectura del código.\n",
        "\n",
        "# Empezamos pidiendo al usuario que ingrese un número entero y almacenando su respuesta en la variable \"numero_a_multiplicar\"\n",
        "# Como usaremos numero_a_multiplicar para cálculos matemáticos necesitamos que el valor ingresado sea un tipo de dato int, por lo que hacemos la conversión al declarar la variable\n",
        "numero_a_multiplicar = int(input(\"Por favor, ingrese un número entero: \"))\n",
        "\n",
        "# Imprimimos el resultado por pantalla. En este caso hacemos una impresión de varias líneas por lo que usamos comillas triples\n",
        "print(f\"\"\"\n",
        "  {numero_a_multiplicar} x 0 = {numero_a_multiplicar * 0}\n",
        "  {numero_a_multiplicar} x 1 = {numero_a_multiplicar * 1}\n",
        "  {numero_a_multiplicar} x 2 = {numero_a_multiplicar * 2}\n",
        "  {numero_a_multiplicar} x 3 = {numero_a_multiplicar * 3}\n",
        "  {numero_a_multiplicar} x 4 = {numero_a_multiplicar * 4}\n",
        "  {numero_a_multiplicar} x 5 = {numero_a_multiplicar * 5}\n",
        "  {numero_a_multiplicar} x 6 = {numero_a_multiplicar * 6}\n",
        "  {numero_a_multiplicar} x 7 = {numero_a_multiplicar * 7}\n",
        "  {numero_a_multiplicar} x 8 = {numero_a_multiplicar * 8}\n",
        "  {numero_a_multiplicar} x 9 = {numero_a_multiplicar * 9}\n",
        "      \"\"\")"
      ],
      "metadata": {
        "colab": {
          "base_uri": "https://localhost:8080/"
        },
        "id": "YXiw8i-0LkuD",
        "outputId": "862d0968-3a1f-43b0-c7ad-c9c414442311"
      },
      "execution_count": null,
      "outputs": [
        {
          "output_type": "stream",
          "name": "stdout",
          "text": [
            "Por favor, ingrese un número entero: 3\n",
            "\n",
            "  3 x 0 = 0\n",
            "  3 x 1 = 3\n",
            "  3 x 2 = 6\n",
            "  3 x 3 = 9\n",
            "  3 x 4 = 12\n",
            "  3 x 5 = 15\n",
            "  3 x 6 = 18\n",
            "  3 x 7 = 21\n",
            "  3 x 8 = 24\n",
            "  3 x 9 = 27\n",
            "      \n"
          ]
        }
      ]
    },
    {
      "cell_type": "markdown",
      "source": [
        "#### **Ejercicio 7**\n",
        "Crear un programa que pida al usuario dos números enteros distintos del 0 y muestre por pantalla el resultado de sumarlos, dividirlos, multiplicarlos y restarlos."
      ],
      "metadata": {
        "id": "pTTua8NxMSLX"
      }
    },
    {
      "cell_type": "code",
      "source": [
        "# Empezamos pidiendo al usuario que ingrese dos números y almacenando sus respuestas en variables\n",
        "# Como usaremos dichas variables para cálculos matemáticos necesitamos que el valor ingresado sea un tipo de dato float, por lo que hacemos la conversión al declarar la variable\n",
        "numero_a = float(input(\"Por favor, ingrese un número distinto de 0: \"))\n",
        "numero_b = float(input(\"Por favor, ingrese otro número distinto de 0: \"))\n",
        "\n",
        "# Realizamos la suma y la almacenamos en la variable suma_a_b\n",
        "suma_a_b = numero_a + numero_b\n",
        "\n",
        "# Realizamos la división y la almacenamos en la variable division_a_b. Redondeamos a 2 decimales.\n",
        "division_a_b = round(numero_a / numero_b, 2)\n",
        "\n",
        "# Realizamos la multiplicación y la almacenamos en la variable multiplicacion_a_b\n",
        "multiplicacion_a_b = numero_a * numero_b\n",
        "\n",
        "# Realizamos la resta y la almacenamos en la variable resta_a_b\n",
        "resta_a_b = numero_a - numero_b\n",
        "\n",
        "# Imprimimos el resultado por pantalla. En este caso hacemos una impresión de varias líneas por lo que usamos comillas triples\n",
        "print(f\"\"\"\n",
        "  Resultado de la suma: {suma_a_b}\n",
        "  Resultado de la división: {division_a_b}\n",
        "  Resultado de la multiplicación: {multiplicacion_a_b}\n",
        "  Resultado de la resta: {resta_a_b}\n",
        "      \"\"\")"
      ],
      "metadata": {
        "colab": {
          "base_uri": "https://localhost:8080/"
        },
        "id": "AMUUUIGwM9h3",
        "outputId": "619c7f2c-177b-4ed5-fec2-9f51e3c64983"
      },
      "execution_count": null,
      "outputs": [
        {
          "output_type": "stream",
          "name": "stdout",
          "text": [
            "Por favor, ingrese un número distinto de 0: 4\n",
            "Por favor, ingrese otro número distinto de 0: 8\n",
            "\n",
            "  Resultado de la suma: 12.0\n",
            "  Resultado de la división: 0.5 \n",
            "  Resultado de la multiplicación: 32.0\n",
            "  Resultado de la resta: -4.0\n",
            "      \n"
          ]
        }
      ]
    },
    {
      "cell_type": "markdown",
      "source": [
        "#### **Ejercicio 8**\n",
        "\n",
        "Crear un programa que pida al usuario su altura y su peso e imprima por pantalla su índice de masa corporal. Tener en cuenta que el índice de masa corporal se calcula del siguiente modo:\n",
        "\n",
        "![image.png](data:image/png;base64,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)"
      ],
      "metadata": {
        "id": "1RRd0JHNOJNS"
      }
    },
    {
      "cell_type": "code",
      "source": [
        "# Empezamos pidiendo al usuario que ingrese su peso y su altura y almacenando sus respuestas en variables\n",
        "# Como usaremos dichas variables para cálculos matemáticos necesitamos que el valor ingresado sea un tipo de dato float, por lo que hacemos la conversión al declarar la variable\n",
        "peso = float(input(\"Por favor, ingrese su peso en kilogramos: \"))\n",
        "altura = float(input(\"Por favor, ingrese su altura en metros: \"))\n",
        "\n",
        "# Realizamos el cálculo del IMC y los almacenamos en la variable imc. Redondeamos a 2 decimales\n",
        "imc = round(peso / altura**2, 2)\n",
        "\n",
        "# Imprimimos por pantalla el resultado\n",
        "print(f\"Su IMC es de: {imc}.\")"
      ],
      "metadata": {
        "colab": {
          "base_uri": "https://localhost:8080/"
        },
        "id": "copA0vR5OURn",
        "outputId": "6903bf19-7149-45eb-ae63-12321898fbdd"
      },
      "execution_count": null,
      "outputs": [
        {
          "output_type": "stream",
          "name": "stdout",
          "text": [
            "Por favor, ingrese su peso en kilogramos: 71\n",
            "Por favor, ingrese su altura en metros: 1.60\n",
            "Su IMC es de: 27.73.\n"
          ]
        }
      ]
    },
    {
      "cell_type": "markdown",
      "source": [
        "#### **Ejercicio 9**\n",
        "\n",
        "Crear un programa que pida al usuario una temperatura en grados Celsius e imprima por pantalla su equivalente en grados Fahrenheit. Tener en cuenta la siguiente equivalencia:\n",
        "\n",
        "![image.png](data:image/png;base64,iVBORw0KGgoAAAANSUhEUgAAAjEAAAAzCAYAAABmOFnWAAABVWlDQ1BJQ0MgUHJvZmlsZQAAKJFtkTFIw1AQhv9opKhVHDqKdLRSi6R1lragKBliW1G7JWlMhTZ9pBEVHDu6uOjq5OQodNVFnFVUXFwFR6GDWp73GjWteo/jPn6O9+7+B/TJOmMVGUDV8dzcQia6tl6Mhp4RxiBGSZ7QzTpLa5pKjO/aG607SKLeTIu78m8H1yOykYi83DYulhtPf/t7Yqhk1U2qH5RTJnM9QJok1rY9JniHOOLSUMT7gm2fjwUbPp91egq5LPEV8ZhZ1kvED8Rxo0u3u7ha2TK/ZhDThy1nJU9V7DwOFfNQ6BSQxCx5839vqtObRQ0Mu3CxCRtleIgiTQpDBRbxIhyYSCBOrGCGMiU8/u1doAk/5vYIlgKtSF90Su+F1UCL1WhtDbg8Yrqr/zgqteT6RlLxebgJDBxy/roKhGJA+57z9ybn7ROg/xE4b30Ciitg6KgOMk4AAABiZVhJZk1NACoAAAAIAAIBEgADAAAAAQABAACHaQAEAAAAAQAAACYAAAAAAAOShgAHAAAAEgAAAFCgAgAEAAAAAQAAAjGgAwAEAAAAAQAAADMAAAAAQVNDSUkAAABTY3JlZW5zaG90lEAaWwAAAjxpVFh0WE1MOmNvbS5hZG9iZS54bXAAAAAAADx4OnhtcG1ldGEgeG1sbnM6eD0iYWRvYmU6bnM6bWV0YS8iIHg6eG1wdGs9IlhNUCBDb3JlIDYuMC4wIj4KICAgPHJkZjpSREYgeG1sbnM6cmRmPSJodHRwOi8vd3d3LnczLm9yZy8xOTk5LzAyLzIyLXJkZi1zeW50YXgtbnMjIj4KICAgICAgPHJkZjpEZXNjcmlwdGlvbiByZGY6YWJvdXQ9IiIKICAgICAgICAgICAgeG1sbnM6ZXhpZj0iaHR0cDovL25zLmFkb2JlLmNvbS9leGlmLzEuMC8iCiAgICAgICAgICAgIHhtbG5zOnRpZmY9Imh0dHA6Ly9ucy5hZG9iZS5jb20vdGlmZi8xLjAvIj4KICAgICAgICAgPGV4aWY6UGl4ZWxZRGltZW5zaW9uPjUxPC9leGlmOlBpeGVsWURpbWVuc2lvbj4KICAgICAgICAgPGV4aWY6VXNlckNvbW1lbnQ+U2NyZWVuc2hvdDwvZXhpZjpVc2VyQ29tbWVudD4KICAgICAgICAgPGV4aWY6UGl4ZWxYRGltZW5zaW9uPjU2MTwvZXhpZjpQaXhlbFhEaW1lbnNpb24+CiAgICAgICAgIDx0aWZmOk9yaWVudGF0aW9uPjE8L3RpZmY6T3JpZW50YXRpb24+CiAgICAgIDwvcmRmOkRlc2NyaXB0aW9uPgogICA8L3JkZjpSREY+CjwveDp4bXBtZXRhPgrhfOaMAAAb8ElEQVR4Ae2dBdAlxRHH5yC4O4UT7FJBwuF6FO5FCDGChOBeuLtDAsFdAiQhCYGkAknw4O7u7u7OS//6+L+ab2/3vX1374733ddd9b7dnR39T09PT0/PfoMaRikoEAgEAoFAIBAIBAKBfobAWP2svlHdQCAQCAQCgUAgEAgEHIFQYoIRAoFAIBAIBAKBQKBfIhBKTL/stqh0IBAIBAKBQCAQCIQSEzwQCAQCgUAgEAgEAv0SgVBi+mW3RaUDgUAgEAgEAoFAIJSY4IFAIBAIBAKBQCAQ6JcIhBLTL7stKh0IBAKBQCAQCAQCocQEDwQCgUAgEAgEAoFAv0QglJh+2W1R6UAgEAgEAoFAIBAIJSZ4IBAIBAKBQCAQCAT6JQKhxPTLbotKBwK9hcDrr7+eNt1007TSSiulpZZaKl144YW9VcGoTSAQCIyRCHxvjGxVNCoQCARGKwJrrbVWWmyxxdJVV12V7r333jRkyJA0ePDgtPDCC4/WekRhgUAgMLAQCEvMwOrvaG0g0HUEXnjhhXTnnXemjTfe2PNecMEFE7+//vWvXS8rMgwEAoFAIEcglJgcjbgPBAKBjhEYa6xhYuTpp59upp122mnTiy++2HyOm0AgEAgERgUCsZ00KlCNPAOBAYTATDPN5NtGhx56aPr666/TU089la644oq0yy67DCAUoqmBQCDwXSAQlpjvAvUoc4xDoNFojHFt6qRB//73v9Ovf/3rdP/997s/zGSTTZYWWGCBTrKIuIFAIBAIdIzAIBO+baXvH/7wh/Tee++1zHzOOedMa6yxRss48XLMR+C5555L//znPysbOs4446Rtttmm8n3ZizPOOCPtvvvu6f3330+/+93v0s4771wWbbSHffHFF2mhhRZKDz30UGLSbjdG6lQQJeC1115LQ4cOTeOPP36dJD0X55ZbbvETSs8880yaffbZO67f448/nv773/+2TferX/0qTT311G3jRYSBgcCXX36ZbrvttnTNNdekjz76KE0//fRp8cUXT0svvXRtAE488cS03377uaw57bTT0pZbblk77ccff5xuuummNOOMM6Z55523droxOeLbb7+d/vOf/6Qnn3wyffXVV2m++eZLa6+9dppwwgn7NBvZefnll6cnnngiffbZZ2mOOeZIv/zlL9Mkk0zSJ17pA0pMK/rkk09Qcvz305/+tLHmmmv6/VxzzdXYdtttG8Yk/myd3SqbeDdAEHj11Vcbyy23nPOEnUxpbLfddv77+c9/7mGzzjrrCCGxySabePpbb711hNKPqkTm1Or1WnnllbtShAk/z8+EcFfyG92ZvPTSS43vf//7DZsARrjovffe2zEAiy222KJh/jX+bEpL4ze/+Y3fI5PsWPcIlxEJxywErr766oYtJJz3tt9+++a8RFintOGGGzqPmbN6R0n//ve/ezpbcHWUrhcim+LQoL3vvPNO16pzwAEHOB4zzDCDj2Nz9vdnxvWbb77ZLGf//ff3cMY54xtZyvjm2RZ0zXhVN6nqhcJvuOEGz/Ciiy7yoLPPPtufDzroIH9+/vnn/fm8885TkgF9vfLKKx2P//3vfwMWBxQXmPCPf/xjHwxQan7xi1/0Cav7sOKKK7qQMutH3SSjJZ6tvLytRxxxxEiX98033zRQ9nbYYYc+eX3wwQfe9gMPPLBPeK89/OQnP2mgpJ5wwgkjVbXll1++YVtRjU8//dTzIU/4SX1vp6B8shqpQsagxGZpaIDZQCVb6Tt/sHhirIiYPFdZZRU91r4uueSSffitbsK//e1vjXXXXbdx8803103SM/HM+ult1jzfjYqZxcXzZGEjWnbZZT3s9NNPV1BD8aiDSMaSQw45REGV17aOvZwwMMHqPxMkbq7jusQSS3BJ00wzjZvSreP9eaD/MSXPIRjI/gCPPPKIY1DkCVNu0swzz9wxixj3+hFevkPCdlQvEeZriO2fkaVBgwYlEyLDZfOnP/3Jzds/+tGPhnvXSwFsO0800UQjXSXMzscee6xvp5llL9lCKcFL6nt4qBt4j3RFeyCDRx991Lcwdtxxxx6ozeivAtsVq622mhd81lln9dl+OProo9MUU0zRUaXYkmI7lC0o8VvdDNZbb73EL2gYAnvttVfac889fXtNmCyzzDLJDCOJcS3aY4890m677ZbmnntuBflHMy+77LJ6Jxwr1ZuKFzJ3m39CRYxhwVaBxvrrr+8rJtLIUmOnFxpYcdiOwjwM2QeyfJsqj3f++ec30NpYvdv++LBM7e9f/vKXxiKLLOLmwjfeeKNhe2huqiK/o446qrlaUwLKY2WIZodmzqrljjvu8Nf33HOPa+qkxeKECX/fffdtUI8f/OAHysKv9gGvxjrrrOMrTeKzfYbGjvYNXX/99W5lsF5wTZN3/LBcYTpjhU35Bx98sMfXHzvR4W2RFoomrPaRzk56ePtYjWJqywnzJRiRLyvXXXfd1XHFOtaK3n333YYxmKfFZMcK+q233vIkefmY61U+WwR22qRVtv4OvDHhkq/olVdeaZh/hB77XOu04cEHH3RMDzvsMMebVSemyX/84x/NvDrpy262H+xoL23EAgVvbLTRRg3bH2/WTTe0w/yBvK/ozxxPxgR9SHpZ8diqIk/yh6/gS3iKsIFCMtGbH1TLJrfq0/vuu69h/npNbJFdjHPGOFvk8DlY0zfwOeNMVh/M62xlEn788cd7HcxHy8csecJ3RarqZ8YGJnb6mC0LyPw3fPXOGEZWiD7//HOXZ/A57xjn2iZRHLbd4CN4gzjwBvFMCXQrKPxC+nzs0VZcALTlwbiHX2mfLGi0DzlJ3g8//LCKc5zAiPrzDt4HP1OgmnGqbqrmA/CVZe33v/+9Jxe+tKXd9jEygfYXZWNVPVrxCWkoj/xsUu2TBTyDhRQ8kW1gQNttke9jH5kN3lhiRHfddZf3B9j+61//UrBfwQ7rck6PPfaY50nekum4bIwOGhWWmGK94X94FHzbWavgT+KZIlrMZrjntttJeQomeTKms6oIkzgTJPFgSnP09Ph0PIIBxYVJiB9xGLgIE4Q4z8Q75phjXHlB0BAGg0CYoGAI+7y5h6O00OGm7TlzEZftHJE5C7mSQp52eqKBMCMOCg0MRrjKQKhgjpSyAdgimIuJhDDypwPIh9/dd9/t0bhqQMGc9tl1/1Emddxqq6184JNPTkxc5AM2ah8DkjAUHNJuvvnm/ozQEpE/cRBAlPHb3/7Wn8mfPqgis5I4hmCKsKVM8jGH2Wb5wvfII4/08ulP+oh45nhalbWHS+EAYwhhjCKKglWkum1QHRF28J72WqVodtKX3W4/wgbBRj+iXMgfyD701qe5TMb0DRMiY4K2gKcmQQY4bSNM+8AISGFEOeKpG2+8sU/edR5QjOD3Oj/GWK8QkwmYaLFQVq9Wfcq4zMc54wXZg6+NreA9b8YVvASPysePLQrkHeEau4xF5AWTK0oV9crlBHVr1c9spSIbJPuYrMGaiY+8WMyJNObZQmShhlwijsYV8gJ+YGwRjg8Sz5QvOaJxbFYtZeuKP/HJl60X2odiAn9JloIB8oF42tLjCo+jvCCzkYnEJw6yp4pazQcoFEV8zanWFaiddtrJ82bhWEVgQL2pQ7uFG3m04hOVAVbkB445UQ/CGUdm/fJ+4Dlf/PEMX0FFvmPLRES7iYusEKF4wqdgTD2ZY+CNVnOt0nbjOiqVGGQb84LGW86PZXUHU8mp3HemLC5hHSkxrBoAv5XW++c//9njsGoQIeRJJ+chmA+BTxhMLAc9tH/C6Dg5NtIYBguE8Gd/DQYjHj/qBLEq59lMU/7MHxiKMDEk4PCMEMJhmQkERYcwfkyOEHlqNUydYSwmIDEscWAwwmA+EdYm8kE45YTfBEQ78gmC1TrxaTf07LPPulZ/ySWXNOuEwxp0wQUXNGStQahRNu0QyTep1R4wzATelInlABJuOFcJXyYM4vBT+VL2hIvKLV6lcFA/hKGEDG3KqZM2aMIHPzmegSO8AdXty263X5iDE+2G6Ceec8dWxYOPpGBKSGPBE4EVk0ROSotVc2QIixoTRJ0fynOvkGQCCl0ZtetTeIMJRWOfvmHxA0meEYaFFzr11FO9/1AIII1d+o54OB0ivyCFSVapr6r6GcdJ0rKiJy/6mnaRnnKVj2QofSWSbFHdFc44gG9y0jhWPli1RchHyta4rmofSoowIK1kqeQtYXK2l2WbsCKpDlXzgcqXAg++LHyQq9Qzl3HFvBk7xEHOtKN2fKL0WFfIkwMKOSHPUBhF4JNboCT3tOMgvmNBQn75nMnOAmH77LOPsmtg6Scst84im3M50ozchRt4Lf+pfOqfh3MPdiNK8uejbfywQGnuKcsT+SiF0b41VRZluLCOlBiEGxUpTtLKFcZjUBEHxQRG0IqF1UxOMCfxcsuJ0qKJQgBAnFyLJVxWm9zEbPuYHldOkQht0sJ4AIO1ggmesNx5idUPYQwETTCUIWLVwXssFSIUG8KK5kANdNVf8blijiSNVlKEoRAQJtMuYZBOZxTDh71tuCmadFrFEy6B3MoRSoKQgUJfYeJFqUEZYHUhQniSf25SZRIljC28ViTBhlBGQDFQy9LpBECdNmjFh8UFQsiRJyvanNr1Zbfbj+My9cj7lBUuYWxPiqSEYVJGcT3ppJNcCWWy04SIck66ouOzJoGTTz5Z2X3nV+o5Mr+6DQAbyilO0nn6un2q8YFSpHGutDnmWGMoE6EuUj2YyHInRZ2iYGUN1eln4smkjrWnjFBuGJP5lqTGpCZ90iFfqSsTbxmpLfkYk6WQyUmElYV8aJ+sgHrH1b7E7O9zPidcMlw8TFhOdecDyVPKl/Ig+V2cN/L8pTjkCkL+Pr9XX7eTfWULCfIRbpSVY6cyZPVicZYTMhZs8/lDluS8//PJnm1L8WieV7fuxc/Uq86v3ZZeq3rBAywikF+af+lneKqMtI2Ub62WxcvDOlJiYGIane+T5pmx1SBQqCj3CA0akHeKQJSFhTwwGxE/VwyksRZXHwIj1+g0oWjVwVaW6sKV+qDhFbU7TTqsoMtIikneZk0sWC9yYjVBOXlb9d7OwHt9ctOrtt2K+6UaMFWrT3CTFUL5q56tLCXScIULeWC2ZlWRk8zd+AmIEKwome1Ilh4NdMyIaN9FqtsGraBlrSIfKaz5Sobwdn3Z7fbLmpivTjWxsRITaSzoCkb0fe5XhiWAfpFfgtKqjHbbeIpfdWWiYGKu8xvZsqrq0Gk4wg9MyvhHedXtU3zRyCu3LrCNQli+P89ihn5C+IrkJ8EYywkezseE+lfXsn6WAp6ny/PUyr3YZsqirqQXyWIqXxKF68oCjrpoJa1FIZbxnGTRYCIuI8k7lG8Rson6tLKU1J0P2B4lr1wZOeecczxM8lzl5lctkHOZmr/P7+vwidrE1l2ReAdvUE/6LldyiavFYDGdtkPhZZGU2Hz8845+QImiDGSwlGOl69YVfgDX/IfvCeWiNObh3HezHviRUQ6L3SJJ0azjB5On7UiJYdJjUJRN0mQqRQLfELZpqkhCQVYT4mlbI9dYZfrMzZWUTR2KA1EWAE3ImtRhjHxFU6yTJp2qjtKec77a0CSf72HL0kJ+ZaS2yJrApDKrKQZ0aL5NhfAkjFV6GUkQ5cIDhUGCM588i+mlOKD85cIwj0f55JWXzzZXFePlabU1l6fN3+u+kzag4FE2/jkijjMTJpO4wtv1Zbfbr0lCE56wyxUurZZZAKCoa0JRnXXFNE2bxB8KF/9VpVO8dleUd/Kv+2uX3+h4z+KH+uIjV0V1+pS0Wvjk4xw+zeUZ44jyiJsTMolwZJRI3wfShFe3n8tkn/LkKn7PF0j6zEXR/warAvUqWylrq5pJQ8TWBPFRjHPSeCpu+SqOyskXSLKG5356iq9r3fmAsU298vJlqc0XUspXV1m+5C6gcK6MtXyeqsMn7ZRCxrcWSshu5Q9PUf8ca9VFSrHGL1Z64lb5urBdLoVLB1+U16i8jkqfmLze+ArS/nz+4j1brYQXeTNPW3Vf+98O8MU920rwL5RyFLSMJp10Ug/mS6MmHPzeOjrxFUSb5JtJbOXj9zYom2Eca4MWXXTRZphpu37P0VKb+PyeI4XkZUzQjGdKQDr33HP9i8HzzDOPh0888cR+5Yt/+jqgTbLJVroobv6Out1+++3JtOg0+eSTN/PLb4yp/HHsscf2q60Q0rXXXuv3NsE06wU+0A9/+EO/UpbaRABfdYXmn39+v9rg96OjNhjSVFNN1czHtr38vTG/X4t/hMO4447bfGUrSsfEhHKaYIIJmnk1I3x7AyamvKTpppsuKT31uvjii5tRbfXkeeXl28Tq7wnjCKIpYM34+Y36Ne/D/L3uO2mDMDRHQyVPtqrxe+qjvOr0ZTfbbyb4BC5gLt4wU7Jjx1Fw6MMPP0zjjTee3/OHr8vqnyVeeuml/ol+vYSvIfhDbeIZvjKF3dPBt2aCJrhjok422dX6qb87LiRLYBaFBEZlZAuCxL8psAVG2etmmK3Q/T7nxebLb2/q9Cm4cRQ+H+c2yTv+fHFZ8uyBBx5olgc/EQcSD9LXIrNK+K0txPxat59tO8jj57JPeXJFbkAan9RBX42lrpD4wxZs/sxXUCGzCPr45t4mSy5NeWPKQLKFlIcht/JxXLdOOnKMzLAtEc+LOiFT6NMi1Z0PyspH9ptVwj/JoPYW859tttk8yKy9fV6Zu4N/+oM+FNXhE7O2e3TaBO6meDhOprj4lXFOu01ZcdmtOU1jd8iQIT63MO5FvGNOYNyDkVmbmmVwQ9sY42eeeaaHcySc//7O/Kk5w1/0wz/gRl/k9PLLL/sjMk0E1hxNt8Vfsq00BSfbiktmHWw+V93UVmJsheB5tPqM+EorreTgmwkqma9LMs3az3ujxGhwkomEgr41k4fBCCKzACSz/rjAM006MRDF8PzHXIQTTMDniWF4M0cpaTKPf78//PDDE5MrygfMSb0YwBADHUZsNena1o7HPe644xLfHeBqK34Pk2BkwEmIoRSZhSCZtabPNz9Upmn7yfaqk2m+ycySrmCZidsFLG2RIpBj44V9+4dPWpPONNdEXptttpkPOHBCyNheogsuBEuRwIT2mm+T94Ft0znjSBgSX/jm5dMPEGnXWmstx8EDCn+YmKBZZpml8KbvYydtYOKFciXGHBc9jEmQiYn61+nLbrbfrINeh7xefGYfoq/NEpi23npr/06FbZEmJmS+94ICTLhZDv3fC3gC+2PWMR87/ONE2iT+hq/Ilwlqgw02SLZCb/Kv0ta5IhRRBur8NFnWyVdxEFZgod/gwYOThLvi6IogYyIwPysFDXdF4Gux0Erm1OlTJqfiOGecQmX9x9gxS4CPU+KIB1FSIf6tBrLA/M/8+zWEMfnU6WfllY8v0oskb8y64PJz9dVXTyussIK/pl4oTWaB8GfJHNuKTGbNcDzNudjfSd7QTj7nvuqqqybz/fF3ZqXwcWwWLn9mzLOYYnFTRkOHDvXgU045Jdm2e/rZz37WnIxRVpGHvCtS3fmAsVQs37Zv/JtDuWws5m9WMA9iEaYJn74xvwqXa1pcEKkOn5g1zfNDvvA9E77ZxKLOrE4+dnnJhEtZuUKsdGYF90lX3+yhD+A78+9JZrV3zLXAMatOsi3l9OMf/ziZhc/lBWMekiyr4hGP1A/+wMMo4FqssPjUHC1epBm2HehKIUqnWZ98PrftVJd3UnpaNtcUgbYks6Bl5ObXKv8RMrJKNo+Ksv2EWTA34RKHfT/eiTC1kXfRxCbHNEx32jrgiCRx2U4iD8zBmNyLZngDxB1miUN89jFxqJJZj7JxUOZdKw9wzFyYnYmHvw7fXJBZlrwxQYq0nUGd8pMFvCce4eSDGZRtH741wzOmTjnfyYFW22LKO7/aR8W87aRlG42tKZwTeQZDGwR59OY920gy0xIXDPP6E7GsfOqmunPKQNsnzYztRk525Asuuek5j6f7Om2gDynXBIaS+VUmXcrB1wiq05fdbL/2kHWqhTqwLSh+w6fBBB7B7sMD74ANP7Yj8RXKSY6bpM/9ttRW0tlqpdSpMM/nu7pn+4MjlGwB6WcLl9LqMIZoD3KgjOh3eFN4Mb7zcZunqdOnZbyhLZR8K4LTReJzxgnjyiY0rwcyiL7hSr34rEOxTrY4cxmhepf1c1H25W3RvXw9iAufmULXLJdtSZsYPSq8r/qaMtbHOZ+6sa1JXZAJOJjiLKv4bOUTRw602hZTHfIrfM1WifLCIZWDEmonWNBnZdRuPqgqX/IM2ViU7Xk5zE0ac7SNH/IaHsypDp9oK4885IfJwRP1ucohf+YFEYdY9A4c8y19+cTwnm0zcEKegR3zBdjCi+oX5UM/lzlZq8xuX0fFdhI+i8JO7bNFlMvDvP5qs/gpv1Y5refpO/KJyRO2u2ePuBuk49fKC6ZGIYFQjooKkuLpigBgf3RkCMbT0V7lwymdohDjHeFlkzzvOAUgh1eeoWL7hoW2/0temiQVu25eZvEZrh7Ko+pKmnxwVsXrJHxk2kBbqwRnuzqMyvYz8VVN3vAG/FhFVf03IvWtKmNUhaPE5H4co6qcqny7hRE8no9RHIERqkzG8Bs+GlXjW3Vr18+K1+oKD+XyBb4pyiDSt5NvRdlH24pyo1U98ndMuDmhTDGG69CIzAdV46GsPCb8YlvL4rXjEzAuG6P0Bydqct7I8wcHKZd5OPfMUTnPcF+sK7wF31BGWfnFPLv9TH1QOlotnke0TPiNxUCOwYjmVZZuEIE2SPsF2SDyvU72z9hKCQoEAoHeQABfARPkyVZOvi3RbkuxN2rdvhbmaJhsVe8mfrYQggKBQKC3EKjtE9ML1Za/yJRTTtkL1Yk6BAKBwLcI4LyI/4Wd5HE/EzvhU+nY259Ak/9eyJz+1GtR14GEQL9SYnDywcH3uuuucw/ugdRR0dZAoJcRwNkTBz6cIXFexYEex77+TGbidydqZA7tCwoEAoHeQ6BfbSf1HnxRo0AgEChDgE8W2PdFkjksl72OsEAgEAgEuoJAv7LEdKXFkUkgEAh0HQGOAesoJUdQOVpa9S2UrhceGQYCgcCAReB7A7bl0fBAIBDoGgJ2TNK/HcLWCx/vsmOjze+bdK2QyCgQCAQCgQICsZ1UACQeA4FAYMQRsKOolV+/HvFcI2UgEAgEAuUIhBJTjkuEBgKBQCAQCAQCgUCPIxA+MT3eQVG9QCAQCAQCgUAgEChHIJSYclwiNBAIBAKBQCAQCAR6HIFQYnq8g6J6gUAgEAgEAoFAIFCOQCgx5bhEaCAQCAQCgUAgEAj0OAKhxPR4B0X1AoFAIBAIBAKBQKAcgVBiynGJ0EAgEAgEAoFAIBDocQRCienxDorqBQKBQCAQCAQCgUA5AqHElOMSoYFAIBAIBAKBQCDQ4wiEEtPjHRTVCwQCgUAgEAgEAoFyBEKJKcclQgOBQCAQCAQCgUCgxxEIJabHOyiqFwgEAoFAIBAIBALlCIQSU45LhAYCgUAgEAgEAoFAjyPwfwM3DIMajaDXAAAAAElFTkSuQmCC)"
      ],
      "metadata": {
        "id": "ADDXzTl2OzBj"
      }
    },
    {
      "cell_type": "code",
      "source": [
        "# Empezamos pidiendo al usuario que ingrese la temperatura en grados Celsius y almacenando su valor en la variable temperatura_celsius\n",
        "# Como usaremos dicha variable para cálculos matemáticos necesitamos que el valor ingresado sea un tipo de dato float, por lo que hacemos la conversión al declarar la variable\n",
        "temperatura_celsius = float(input(\"Por favor, una temperatura en °C: \"))\n",
        "\n",
        "# Realizamos la conversión de grados Celsius a grados Fahrenheit y almacenamos el resultado en la variable temperatura_fahrenheit. Redondeamos a 2 decimales\n",
        "temperatura_fahrenheit = round((9/5)*temperatura_celsius+32, 2)\n",
        "\n",
        "# Imprimimos por pantalla el resultado\n",
        "print(f\"{temperatura_celsius} °C equivalen a {temperatura_fahrenheit} °F.\")"
      ],
      "metadata": {
        "colab": {
          "base_uri": "https://localhost:8080/"
        },
        "id": "Mk0W1wB4Yv83",
        "outputId": "00f2752a-c525-4c40-cd7c-a28fce029123"
      },
      "execution_count": null,
      "outputs": [
        {
          "output_type": "stream",
          "name": "stdout",
          "text": [
            "Por favor, una temperatura en °C: 23\n",
            "23.0 °C equivalen a 73.4 °F.\n"
          ]
        }
      ]
    },
    {
      "cell_type": "markdown",
      "source": [
        "#### **Ejercicio 10**\n",
        "\n",
        "Crear un programa que pida al usuario  3 números e imprima por pantalla el promedio de dichos números."
      ],
      "metadata": {
        "id": "dUEub-1cZWoT"
      }
    },
    {
      "cell_type": "code",
      "source": [
        "# Empezamos pidiendo al usuario que ingrese 3 números y almacenando sus respuestas en variables\n",
        "# Como usaremos dichas variables para cálculos matemáticos necesitamos que el valor ingresado sea un tipo de dato float, por lo que hacemos la conversión al declarar la variable\n",
        "numero_a = float(input(\"Por favor, ingrese el primer número: \"))\n",
        "numero_b = float(input(\"Por favor, ingrese el segundo número: \"))\n",
        "numero_c = float(input(\"Por favor, ingrese el tercer número: \"))\n",
        "\n",
        "# Realizamos la suma y la almacenamos en la variable suma_a_b_c\n",
        "suma_a_b_c = numero_a + numero_b + numero_c\n",
        "\n",
        "# Calculamos el promeido y lo almacenamos en la variable promedio_a_b_c. Redondeamos a 2 decimales.\n",
        "promedio_a_b_c = round(suma_a_b_c/3, 2)\n",
        "\n",
        "# Imprimimos por pantalla el resultado\n",
        "print(f\"El promedio de los números ingresados es {promedio_a_b_c}.\")"
      ],
      "metadata": {
        "colab": {
          "base_uri": "https://localhost:8080/"
        },
        "id": "c_NTpkITZGTd",
        "outputId": "3815983c-6a74-4bee-885b-dffff4569875"
      },
      "execution_count": null,
      "outputs": [
        {
          "output_type": "stream",
          "name": "stdout",
          "text": [
            "Por favor, ingrese el primer número: 3\n",
            "Por favor, ingrese el segundo número: 5\n",
            "Por favor, ingrese el tercer número: 7\n",
            "El promedio de los números ingresados es 5.0.\n"
          ]
        }
      ]
    }
  ]
}